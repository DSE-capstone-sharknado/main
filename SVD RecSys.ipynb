{
 "cells": [
  {
   "cell_type": "code",
   "execution_count": 8,
   "metadata": {
    "collapsed": false
   },
   "outputs": [],
   "source": [
    "# Run some recommendation experiments using MovieLens 100K\n",
    "%matplotlib inline\n",
    "import pandas\n",
    "import numpy\n",
    "import scipy.sparse\n",
    "import scipy.sparse.linalg\n",
    "import matplotlib.pyplot as plt\n",
    "from sklearn.metrics import mean_absolute_error"
   ]
  },
  {
   "cell_type": "code",
   "execution_count": 13,
   "metadata": {
    "collapsed": false
   },
   "outputs": [],
   "source": [
    "data_dir = \"ml-100k/\"\n",
    "data_shape = (943, 1682)\n",
    "\n",
    "df = pandas.read_csv(data_dir + \"ua.base\", sep=\"\\t\", header=-1)\n",
    "values = df.values\n",
    "values[:, 0:2] -= 1\n",
    "X_train = scipy.sparse.csr_matrix((values[:, 2], (values[:, 0], values[:, 1])), dtype=numpy.float, shape=data_shape)\n",
    "\n",
    "df = pandas.read_csv(data_dir + \"ua.test\", sep=\"\\t\", header=-1)\n",
    "values = df.values\n",
    "values[:, 0:2] -= 1\n",
    "X_test = scipy.sparse.csr_matrix((values[:, 2], (values[:, 0], values[:, 1])), dtype=numpy.float, shape=data_shape)\n",
    "\n",
    "# Compute means of nonzero elements\n",
    "X_row_mean = numpy.zeros(data_shape[0])\n",
    "X_row_sum = numpy.zeros(data_shape[0])\n",
    "\n",
    "train_rows, train_cols = X_train.nonzero()\n",
    "\n",
    "# Iterate through nonzero elements to compute sums and counts of rows elements\n",
    "for i in range(train_rows.shape[0]):\n",
    "    X_row_mean[train_rows[i]] += X_train[train_rows[i], train_cols[i]]\n",
    "    X_row_sum[train_rows[i]] += 1\n",
    "\n",
    "# Note that (X_row_sum == 0) is required to prevent divide by zero\n",
    "X_row_mean /= X_row_sum + (X_row_sum == 0)\n",
    "\n",
    "# Subtract mean rating for each user\n",
    "for i in range(train_rows.shape[0]):\n",
    "    X_train[train_rows[i], train_cols[i]] -= X_row_mean[train_rows[i]]\n",
    "\n",
    "test_rows, test_cols = X_test.nonzero()\n",
    "for i in range(test_rows.shape[0]):\n",
    "    X_test[test_rows[i], test_cols[i]] -= X_row_mean[test_rows[i]]\n",
    "\n",
    "X_train = numpy.array(X_train.toarray())\n",
    "X_test = numpy.array(X_test.toarray())"
   ]
  },
  {
   "cell_type": "code",
   "execution_count": 27,
   "metadata": {
    "collapsed": false
   },
   "outputs": [
    {
     "data": {
      "text/plain": [
       "0.0"
      ]
     },
     "execution_count": 27,
     "metadata": {},
     "output_type": "execute_result"
    }
   ],
   "source": [
    "X_train[3][0]"
   ]
  },
  {
   "cell_type": "code",
   "execution_count": 11,
   "metadata": {
    "collapsed": false
   },
   "outputs": [
    {
     "name": "stdout",
     "output_type": "stream",
     "text": [
      "(2, 0.7632419407797969, 0.80625312263304683)\n",
      "(3, 0.75451351875789385, 0.80482838695320325)\n",
      "(4, 0.74618150820108309, 0.80372971956371297)\n",
      "(5, 0.73864003696706515, 0.80111452705032626)\n",
      "(6, 0.7306512701022605, 0.79860615917606403)\n",
      "(7, 0.72454306917527023, 0.79509425084225138)\n",
      "(8, 0.71842252294320863, 0.79470049127499043)\n",
      "(9, 0.71315872281744841, 0.79442238832108036)\n",
      "(10, 0.70784348146897191, 0.79419230528125684)\n",
      "(11, 0.70311131564933049, 0.79434443643201724)\n",
      "(12, 0.69814815285774645, 0.79436054935803946)\n",
      "(13, 0.69298358210731648, 0.79344400956336547)\n",
      "(14, 0.68847439635900565, 0.79297086278635343)\n",
      "(15, 0.6836396562235092, 0.79220818947932325)\n",
      "(16, 0.6790602923886585, 0.79203613828028141)\n",
      "(17, 0.67471280045813087, 0.79187118390049216)\n",
      "(18, 0.67038478186961359, 0.79222839287659008)\n",
      "(19, 0.66603693359688887, 0.79296222162066887)\n",
      "(20, 0.66189142099289644, 0.79322683613296074)\n",
      "(21, 0.6575440316880844, 0.79335341113795421)\n",
      "(22, 0.65331611610017104, 0.79361820565628938)\n",
      "(23, 0.6494722231973431, 0.79414447148878187)\n",
      "(24, 0.64538530560234619, 0.79429010222348029)\n",
      "(25, 0.64127929096203351, 0.79513387251321654)\n",
      "(26, 0.6373078537624588, 0.79507450012871439)\n",
      "(27, 0.63331461863756477, 0.79566366686877743)\n",
      "(28, 0.62920174285243557, 0.7957361343044953)\n",
      "(29, 0.62526221403163107, 0.79608403210966261)\n",
      "(30, 0.62151886764474773, 0.79574121533091269)\n",
      "(31, 0.61759381218463971, 0.795572483961698)\n",
      "(32, 0.61371054904900002, 0.79556570572075203)\n",
      "(33, 0.60984585962801918, 0.7960940128571472)\n",
      "(34, 0.60625374398433929, 0.79617074136387322)\n",
      "(35, 0.60250518972521494, 0.7961095611882969)\n",
      "(36, 0.59892848375762697, 0.79688899822445869)\n",
      "(37, 0.59522406235165448, 0.79681857928695343)\n",
      "(38, 0.59173165662134797, 0.7970981084369696)\n",
      "(39, 0.5882697065479664, 0.79708012245183812)\n",
      "(40, 0.58472418374751889, 0.79691279246175906)\n",
      "(41, 0.5812847325404098, 0.79710145914492125)\n",
      "(42, 0.57779404402299794, 0.79695570325627696)\n",
      "(43, 0.57422333133733494, 0.797107483112801)\n",
      "(44, 0.57085917665636265, 0.79737636999037764)\n",
      "(45, 0.56741717267657288, 0.79706908502892437)\n",
      "(46, 0.56415165634966757, 0.79766953904799331)\n",
      "(47, 0.5609473065261581, 0.79787598049266073)\n",
      "(48, 0.55766847181826784, 0.79759757650024787)\n",
      "(49, 0.55436763179416149, 0.79803508349390118)\n"
     ]
    },
    {
     "data": {
      "image/png": "[encoded data removed]",
      "text/plain": [
       "<matplotlib.figure.Figure at 0x111b64b10>"
      ]
     },
     "metadata": {},
     "output_type": "display_data"
    }
   ],
   "source": [
    "ks = numpy.arange(2, 50)\n",
    "train_mae = numpy.zeros(ks.shape[0])\n",
    "test_mae = numpy.zeros(ks.shape[0])\n",
    "train_scores = X_train[(train_rows, train_cols)]\n",
    "test_scores = X_test[(test_rows, test_cols)]\n",
    "\n",
    "# Now take SVD of X_train\n",
    "U, s, Vt = numpy.linalg.svd(X_train, full_matrices=False)\n",
    "\n",
    "for j, k in enumerate(ks):\n",
    "    X_pred = U[:, 0:k].dot(numpy.diag(s[0:k])).dot(Vt[0:k, :])\n",
    "\n",
    "    pred_train_scores = X_pred[(train_rows, train_cols)]\n",
    "    pred_test_scores = X_pred[(test_rows, test_cols)]\n",
    "\n",
    "    train_mae[j] = mean_absolute_error(train_scores, pred_train_scores)\n",
    "    test_mae[j] = mean_absolute_error(test_scores, pred_test_scores)\n",
    "\n",
    "    print(k,  train_mae[j], test_mae[j])\n",
    "\n",
    "plt.plot(ks, train_mae, 'k', label=\"Train\")\n",
    "plt.plot(ks, test_mae, 'r', label=\"Test\")\n",
    "plt.xlabel(\"k\")\n",
    "plt.ylabel(\"MAE\")\n",
    "plt.legend()\n",
    "plt.show()"
   ]
  },
  {
   "cell_type": "markdown",
   "metadata": {},
   "source": [
    "The strange learning curve above shows that we are overfitting the test data. The test curve shows no sign of learning.\n",
    "\n",
    "The $a^{(k)}_{ij}$ element of the matrix $A_k$ is an approximation of the $a_{ij}$ element of the original matrix $A$. In particular, if you were to use the $U$, $\\Sigma$, and $V$ matrices of expansion as they are (without the dimension reduction) you would have $a^{(k)}_{ij} = a^{ij}$. As a corollary, it's impossible to use the $A_k$ as a prediction matrix, because you _already_ have this information in matrix $A$. For example, if the $p^{th}$ user did not rate the $q^{th}$ product, $a_{pq}$ will be $0$. At the same time $a^{(k)}_{pq}$ will be $0$ too. Not a very insightful prediction, is it?"
   ]
  },
  {
   "cell_type": "markdown",
   "metadata": {},
   "source": []
  }
 ],
 "metadata": {
  "kernelspec": {
   "display_name": "Python 2",
   "language": "python",
   "name": "python2"
  },
  "language_info": {
   "codemirror_mode": {
    "name": "ipython",
    "version": 2
   },
   "file_extension": ".py",
   "mimetype": "text/x-python",
   "name": "python",
   "nbconvert_exporter": "python",
   "pygments_lexer": "ipython2",
   "version": "2.7.11"
  }
 },
 "nbformat": 4,
 "nbformat_minor": 0
}
